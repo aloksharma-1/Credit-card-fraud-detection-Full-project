{
  "cells": [
    {
      "cell_type": "markdown",
      "metadata": {
        "id": "view-in-github",
        "colab_type": "text"
      },
      "source": [
        "<a href=\"https://colab.research.google.com/github/aloksharma-1/Credit-card-fraud-detection-Full-project/blob/main/pickle.ipynb\" target=\"_parent\"><img src=\"https://colab.research.google.com/assets/colab-badge.svg\" alt=\"Open In Colab\"/></a>"
      ]
    },
    {
      "cell_type": "code",
      "execution_count": 11,
      "id": "bddbfce8",
      "metadata": {
        "id": "bddbfce8"
      },
      "outputs": [],
      "source": [
        "import pickle\n",
        "import pandas as pd\n",
        "from sklearn.pipeline import Pipeline"
      ]
    },
    {
      "cell_type": "code",
      "execution_count": 15,
      "id": "2e79cee9",
      "metadata": {
        "id": "2e79cee9"
      },
      "outputs": [],
      "source": [
        "pipe = pickle.load(open('/content/drive/MyDrive/pipe.pkl','rb'))"
      ]
    },
    {
      "cell_type": "code",
      "source": [
        "from google.colab import drive\n",
        "drive.mount('/content/drive')"
      ],
      "metadata": {
        "colab": {
          "base_uri": "https://localhost:8080/"
        },
        "id": "JfOY25OBXLrW",
        "outputId": "115b2c78-7d46-442c-957f-2e31aad96f95"
      },
      "id": "JfOY25OBXLrW",
      "execution_count": 14,
      "outputs": [
        {
          "output_type": "stream",
          "name": "stdout",
          "text": [
            "Drive already mounted at /content/drive; to attempt to forcibly remount, call drive.mount(\"/content/drive\", force_remount=True).\n"
          ]
        }
      ]
    },
    {
      "cell_type": "code",
      "execution_count": 37,
      "id": "7be57bf8",
      "metadata": {
        "id": "7be57bf8"
      },
      "outputs": [],
      "source": [
        "selfdata=[1, 9839.64\t,170136.0,\t160296.36,\t0.0,\t0.0]"
      ]
    },
    {
      "cell_type": "code",
      "execution_count": 38,
      "id": "ef7be4e1",
      "metadata": {
        "id": "ef7be4e1"
      },
      "outputs": [],
      "source": [
        "data = [selfdata]"
      ]
    },
    {
      "cell_type": "code",
      "execution_count": 39,
      "id": "2c804f3d",
      "metadata": {
        "id": "2c804f3d"
      },
      "outputs": [],
      "source": [
        "df = pd.DataFrame(data, columns = ['type', 'amount', 'oldbalanceOrg', 'newbalanceOrig', 'oldbalanceDest', 'newbalanceDest'])"
      ]
    },
    {
      "cell_type": "code",
      "execution_count": 40,
      "id": "0e8b704a",
      "metadata": {
        "colab": {
          "base_uri": "https://localhost:8080/"
        },
        "id": "0e8b704a",
        "outputId": "be6fdbb3-7faa-4dea-f242-a07d1713a6a4"
      },
      "outputs": [
        {
          "output_type": "execute_result",
          "data": {
            "text/plain": [
              "array([0.])"
            ]
          },
          "metadata": {},
          "execution_count": 40
        }
      ],
      "source": [
        "pipe.predict(df)"
      ]
    },
    {
      "cell_type": "code",
      "execution_count": null,
      "id": "9e04e2d8",
      "metadata": {
        "id": "9e04e2d8"
      },
      "outputs": [],
      "source": []
    }
  ],
  "metadata": {
    "kernelspec": {
      "display_name": "Python 3 (ipykernel)",
      "language": "python",
      "name": "python3"
    },
    "language_info": {
      "codemirror_mode": {
        "name": "ipython",
        "version": 3
      },
      "file_extension": ".py",
      "mimetype": "text/x-python",
      "name": "python",
      "nbconvert_exporter": "python",
      "pygments_lexer": "ipython3",
      "version": "3.10.10"
    },
    "colab": {
      "provenance": [],
      "include_colab_link": true
    }
  },
  "nbformat": 4,
  "nbformat_minor": 5
}